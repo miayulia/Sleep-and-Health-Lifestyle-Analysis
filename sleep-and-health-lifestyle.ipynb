{
 "cells": [
  {
   "attachments": {},
   "cell_type": "markdown",
   "metadata": {},
   "source": [
    "Link Dashboard :\n",
    "https://lookerstudio.google.com/u/0/reporting/44ddad68-5f37-425f-91d8-c9099da6705b/page/ly4UD/edit"
   ]
  },
  {
   "cell_type": "markdown",
   "metadata": {},
   "source": [
    "Link Dataset : https://www.kaggle.com/datasets/uom190346a/sleep-health-and-lifestyle-dataset"
   ]
  },
  {
   "attachments": {},
   "cell_type": "markdown",
   "metadata": {},
   "source": [
    "# **Identifikasi Masalah**"
   ]
  },
  {
   "attachments": {},
   "cell_type": "markdown",
   "metadata": {},
   "source": [
    "Latar Belakang :  \n",
    "Perusahaan A ingin mengeluarkan produk obat tidur. Agar strategi pemasarannya tepat sasaran, tim survey melakukan random sampling ke 374 orang di Kota Z yang kemudian akan di olah datanya oleh tim DS. "
   ]
  },
  {
   "attachments": {},
   "cell_type": "markdown",
   "metadata": {},
   "source": [
    "Problem Statement :     \n",
    "Menganalisis korelasi dari kebiasaan pola hidup dari 374 sampel warga di Kota Z."
   ]
  },
  {
   "attachments": {},
   "cell_type": "markdown",
   "metadata": {},
   "source": [
    "**Poin Penjabaran** :    \n",
    "1. Demografi responden seperti apa?\n",
    "2. Pekerjaan apa yang memiliki kualitas tidur terburuk?\n",
    "3. Apakah kualitas tidur mempengaruhi stress level ?\n",
    "4. Apakah tingkat aktifitas fisik dan langkah harian mempengaruhi kualitas tidur?\n",
    "5. Apakah BMI mempengaruhi tekanan darah?\n",
    "6. Bagaimana hubungan antara tekanan darah dengan stress level?\n",
    "7. Apakah usia mempengaruhi kualitas tidur ?\n",
    "8. Bagaimana central tendencies dari durasi tidur berdasarkan pekerjaan?\n",
    "9. Apakah orang yang dengan sleep disorder dan yang tanpa disorder memiliki stress level yang sama ?\n"
   ]
  },
  {
   "attachments": {},
   "cell_type": "markdown",
   "metadata": {},
   "source": [
    "# Import Library"
   ]
  },
  {
   "cell_type": "code",
   "execution_count": 1,
   "metadata": {},
   "outputs": [],
   "source": [
    "import pandas as pd\n",
    "import seaborn as sns\n",
    "import matplotlib.pyplot as plt\n",
    "from scipy import stats\n",
    "import numpy as np"
   ]
  },
  {
   "attachments": {},
   "cell_type": "markdown",
   "metadata": {},
   "source": [
    "# **Data Loading**"
   ]
  },
  {
   "attachments": {},
   "cell_type": "markdown",
   "metadata": {},
   "source": [
    "Data yang digunakan berumber dari Kaggle : `https://www.kaggle.com/datasets/uom190346a/sleep-health-and-lifestyle-dataset` "
   ]
  },
  {
   "cell_type": "code",
   "execution_count": 2,
   "metadata": {},
   "outputs": [],
   "source": [
    "#melakukan dataframe loading \n",
    "df = pd.read_csv('Sleep_health_and_lifestyle_dataset.csv')"
   ]
  },
  {
   "cell_type": "code",
   "execution_count": 3,
   "metadata": {},
   "outputs": [
    {
     "data": {
      "text/html": [
       "<div>\n",
       "<style scoped>\n",
       "    .dataframe tbody tr th:only-of-type {\n",
       "        vertical-align: middle;\n",
       "    }\n",
       "\n",
       "    .dataframe tbody tr th {\n",
       "        vertical-align: top;\n",
       "    }\n",
       "\n",
       "    .dataframe thead th {\n",
       "        text-align: right;\n",
       "    }\n",
       "</style>\n",
       "<table border=\"1\" class=\"dataframe\">\n",
       "  <thead>\n",
       "    <tr style=\"text-align: right;\">\n",
       "      <th></th>\n",
       "      <th>Person ID</th>\n",
       "      <th>Gender</th>\n",
       "      <th>Age</th>\n",
       "      <th>Occupation</th>\n",
       "      <th>Sleep Duration</th>\n",
       "      <th>Quality of Sleep</th>\n",
       "      <th>Physical Activity Level</th>\n",
       "      <th>Stress Level</th>\n",
       "      <th>BMI Category</th>\n",
       "      <th>Blood Pressure</th>\n",
       "      <th>Heart Rate</th>\n",
       "      <th>Daily Steps</th>\n",
       "      <th>Sleep Disorder</th>\n",
       "    </tr>\n",
       "  </thead>\n",
       "  <tbody>\n",
       "    <tr>\n",
       "      <th>0</th>\n",
       "      <td>1</td>\n",
       "      <td>Male</td>\n",
       "      <td>27</td>\n",
       "      <td>Software Engineer</td>\n",
       "      <td>6.1</td>\n",
       "      <td>6</td>\n",
       "      <td>42</td>\n",
       "      <td>6</td>\n",
       "      <td>Overweight</td>\n",
       "      <td>126/83</td>\n",
       "      <td>77</td>\n",
       "      <td>4200</td>\n",
       "      <td>None</td>\n",
       "    </tr>\n",
       "    <tr>\n",
       "      <th>1</th>\n",
       "      <td>2</td>\n",
       "      <td>Male</td>\n",
       "      <td>28</td>\n",
       "      <td>Doctor</td>\n",
       "      <td>6.2</td>\n",
       "      <td>6</td>\n",
       "      <td>60</td>\n",
       "      <td>8</td>\n",
       "      <td>Normal</td>\n",
       "      <td>125/80</td>\n",
       "      <td>75</td>\n",
       "      <td>10000</td>\n",
       "      <td>None</td>\n",
       "    </tr>\n",
       "    <tr>\n",
       "      <th>2</th>\n",
       "      <td>3</td>\n",
       "      <td>Male</td>\n",
       "      <td>28</td>\n",
       "      <td>Doctor</td>\n",
       "      <td>6.2</td>\n",
       "      <td>6</td>\n",
       "      <td>60</td>\n",
       "      <td>8</td>\n",
       "      <td>Normal</td>\n",
       "      <td>125/80</td>\n",
       "      <td>75</td>\n",
       "      <td>10000</td>\n",
       "      <td>None</td>\n",
       "    </tr>\n",
       "    <tr>\n",
       "      <th>3</th>\n",
       "      <td>4</td>\n",
       "      <td>Male</td>\n",
       "      <td>28</td>\n",
       "      <td>Sales Representative</td>\n",
       "      <td>5.9</td>\n",
       "      <td>4</td>\n",
       "      <td>30</td>\n",
       "      <td>8</td>\n",
       "      <td>Obese</td>\n",
       "      <td>140/90</td>\n",
       "      <td>85</td>\n",
       "      <td>3000</td>\n",
       "      <td>Sleep Apnea</td>\n",
       "    </tr>\n",
       "    <tr>\n",
       "      <th>4</th>\n",
       "      <td>5</td>\n",
       "      <td>Male</td>\n",
       "      <td>28</td>\n",
       "      <td>Sales Representative</td>\n",
       "      <td>5.9</td>\n",
       "      <td>4</td>\n",
       "      <td>30</td>\n",
       "      <td>8</td>\n",
       "      <td>Obese</td>\n",
       "      <td>140/90</td>\n",
       "      <td>85</td>\n",
       "      <td>3000</td>\n",
       "      <td>Sleep Apnea</td>\n",
       "    </tr>\n",
       "  </tbody>\n",
       "</table>\n",
       "</div>"
      ],
      "text/plain": [
       "   Person ID Gender  Age            Occupation  Sleep Duration  \\\n",
       "0          1   Male   27     Software Engineer             6.1   \n",
       "1          2   Male   28                Doctor             6.2   \n",
       "2          3   Male   28                Doctor             6.2   \n",
       "3          4   Male   28  Sales Representative             5.9   \n",
       "4          5   Male   28  Sales Representative             5.9   \n",
       "\n",
       "   Quality of Sleep  Physical Activity Level  Stress Level BMI Category  \\\n",
       "0                 6                       42             6   Overweight   \n",
       "1                 6                       60             8       Normal   \n",
       "2                 6                       60             8       Normal   \n",
       "3                 4                       30             8        Obese   \n",
       "4                 4                       30             8        Obese   \n",
       "\n",
       "  Blood Pressure  Heart Rate  Daily Steps Sleep Disorder  \n",
       "0         126/83          77         4200           None  \n",
       "1         125/80          75        10000           None  \n",
       "2         125/80          75        10000           None  \n",
       "3         140/90          85         3000    Sleep Apnea  \n",
       "4         140/90          85         3000    Sleep Apnea  "
      ]
     },
     "execution_count": 3,
     "metadata": {},
     "output_type": "execute_result"
    }
   ],
   "source": [
    "#menampilkan 5 data teratas\n",
    "df.head()"
   ]
  },
  {
   "attachments": {},
   "cell_type": "markdown",
   "metadata": {},
   "source": [
    "Adapun deskripsi pada kolom adalah :                                         \n",
    "Person ID: Identifikasi nomor sampel                                                                 \n",
    "Gender: Jenis Kelamin                                                      \n",
    "Age: Usia dalam Tahun                                \n",
    "Occupation: Pekerjaan                                           \n",
    "Sleep Duration : Durasi tidur per hari berdasarkan jam                                    \n",
    "Quality of Sleep : rating kualitas tidur dari angka 1-10 secara subjektif                                              \n",
    "Physical Activity Level (minutes/day): tingkat aktifitas fisik berdasakan menit per hari                               \n",
    "Stress Level (scale: 1-10): rating tingkat stress dari angka 1-10 secara subjektif                                            \n",
    "BMI Category: Kategori BMI sampel                                                     \n",
    "Blood Pressure : Ukuran tekanan darah berdasarkan sistolik/diastolik                               \n",
    "Heart Rate : detak jantung sampel dalam detak per menit (bpm)                               \n",
    "Daily Steps: jumlah langkah per hari                                                             \n",
    "Sleep Disorder: Penyakit tidur yang dimiliki seseorang "
   ]
  },
  {
   "attachments": {},
   "cell_type": "markdown",
   "metadata": {},
   "source": [
    "# **Data Cleaning & Preprocessing**"
   ]
  },
  {
   "cell_type": "code",
   "execution_count": 4,
   "metadata": {},
   "outputs": [
    {
     "data": {
      "text/plain": [
       "Person ID                  0\n",
       "Gender                     0\n",
       "Age                        0\n",
       "Occupation                 0\n",
       "Sleep Duration             0\n",
       "Quality of Sleep           0\n",
       "Physical Activity Level    0\n",
       "Stress Level               0\n",
       "BMI Category               0\n",
       "Blood Pressure             0\n",
       "Heart Rate                 0\n",
       "Daily Steps                0\n",
       "Sleep Disorder             0\n",
       "dtype: int64"
      ]
     },
     "execution_count": 4,
     "metadata": {},
     "output_type": "execute_result"
    }
   ],
   "source": [
    "#melihat missing value\n",
    "df.isna().sum()"
   ]
  },
  {
   "attachments": {},
   "cell_type": "markdown",
   "metadata": {},
   "source": [
    "Missing value pada sleep disorder menandakan bahwa sampel tidak memiliki sleep disorder, sehingga value akan diubah menjadi 'None'"
   ]
  },
  {
   "cell_type": "code",
   "execution_count": 5,
   "metadata": {},
   "outputs": [],
   "source": [
    "#mengubah missing value\n",
    "df = df.fillna('None')"
   ]
  },
  {
   "cell_type": "code",
   "execution_count": 6,
   "metadata": {},
   "outputs": [],
   "source": [
    "#mengubah nama kolom supaya mudah dilakukan pemrosesan data\n",
    "df = df.rename(columns = {'Person ID':'ID','Sleep Duration':'sleep_duration','Quality of Sleep':'sleep_quality','Physical Activity Level':'activity_level','Stress Level':'stress_level','BMI Category':'BMI','Blood Pressure':'blood_pressure','Heart Rate':'heart_rate','Daily Steps':'steps','Sleep Disorder':'sleep_disorder'})"
   ]
  },
  {
   "attachments": {},
   "cell_type": "markdown",
   "metadata": {},
   "source": [
    "Pada kolom Blood Pressure, saya ingin memisahkan berdasarkan Sistolik dan Diastoliknya, sehingga nanti dapat ditentukan kategori tekanan darah pada sampel. Data sistolik diambil dari sebelah kiri dari nilai tekanan darah berupa angka ratusan, sedangkan diastolik diambil dari sebelah kanan dari nilai tekanan darah berupa angka puluhan"
   ]
  },
  {
   "cell_type": "code",
   "execution_count": 7,
   "metadata": {},
   "outputs": [],
   "source": [
    "#membuat kolom baru sistolik\n",
    "sistolik = []\n",
    "\n",
    "for i in df['blood_pressure'].str.split('/'):\n",
    "    sistolik.append(i[0])\n",
    "\n",
    "df['sistolik'] = sistolik\n",
    "\n",
    "#mengubah tipe data sistolik menjadi integer\n",
    "df['sistolik'] = df['sistolik'].astype(int)"
   ]
  },
  {
   "cell_type": "code",
   "execution_count": 8,
   "metadata": {},
   "outputs": [],
   "source": [
    "#membuat kolom baru diastolik\n",
    "diastolik = []\n",
    "\n",
    "for i in df['blood_pressure'].str.split('/'):\n",
    "    diastolik.append(i[1])\n",
    "\n",
    "df['diastolik'] = diastolik\n",
    "\n",
    "#mengubah tipe data diastolik menjadi integer\n",
    "df['diastolik'] = df['diastolik'].astype(int)"
   ]
  },
  {
   "cell_type": "code",
   "execution_count": 9,
   "metadata": {},
   "outputs": [],
   "source": [
    "#menambahkan kolom baru kategori tekanan darah\n",
    "bp_category = []\n",
    "\n",
    "for i in range(len(df)):\n",
    "\n",
    "    if df['sistolik'][i] > 120 and df['diastolik'][i] > 80:\n",
    "        hasil1 = 'Hipertensi'\n",
    "        bp_category.append(hasil1)\n",
    "    elif df['sistolik'][i] < 90 and df['diastolik'][i] < 60:\n",
    "        hasil2 = 'Hipotensi'\n",
    "        bp_category.append(hasil2)\n",
    "    else:\n",
    "        hasil3 = 'Normal'\n",
    "        bp_category.append(hasil3)\n",
    "\n",
    "df['bp_category'] = bp_category"
   ]
  },
  {
   "cell_type": "code",
   "execution_count": 10,
   "metadata": {},
   "outputs": [
    {
     "name": "stdout",
     "output_type": "stream",
     "text": [
      "65\n",
      "86\n"
     ]
    }
   ],
   "source": [
    "#melihat berapa range kolom heart rate\n",
    "print(df['heart_rate'].min())\n",
    "print(df['heart_rate'].max())"
   ]
  },
  {
   "attachments": {},
   "cell_type": "markdown",
   "metadata": {},
   "source": [
    "berdasarkan data, range kolom heart rate berkisar antara 65-86 bps, dimana heart rate tersebut masih di ambang normal. sehingga kolom heart rate tidak akan digunakan sebagai indikator penilaian. kolom heart rate akan dihapus bersama kolom lain yang tidak digunakan"
   ]
  },
  {
   "cell_type": "code",
   "execution_count": 11,
   "metadata": {},
   "outputs": [],
   "source": [
    "#menghilangkan kolom yang tidak digunakan\n",
    "df = df.drop(['blood_pressure', 'heart_rate'], axis=1)"
   ]
  },
  {
   "cell_type": "code",
   "execution_count": 12,
   "metadata": {},
   "outputs": [
    {
     "data": {
      "text/html": [
       "<div>\n",
       "<style scoped>\n",
       "    .dataframe tbody tr th:only-of-type {\n",
       "        vertical-align: middle;\n",
       "    }\n",
       "\n",
       "    .dataframe tbody tr th {\n",
       "        vertical-align: top;\n",
       "    }\n",
       "\n",
       "    .dataframe thead th {\n",
       "        text-align: right;\n",
       "    }\n",
       "</style>\n",
       "<table border=\"1\" class=\"dataframe\">\n",
       "  <thead>\n",
       "    <tr style=\"text-align: right;\">\n",
       "      <th></th>\n",
       "      <th>ID</th>\n",
       "      <th>Gender</th>\n",
       "      <th>Age</th>\n",
       "      <th>Occupation</th>\n",
       "      <th>sleep_duration</th>\n",
       "      <th>sleep_quality</th>\n",
       "      <th>activity_level</th>\n",
       "      <th>stress_level</th>\n",
       "      <th>BMI</th>\n",
       "      <th>steps</th>\n",
       "      <th>sleep_disorder</th>\n",
       "      <th>sistolik</th>\n",
       "      <th>diastolik</th>\n",
       "      <th>bp_category</th>\n",
       "    </tr>\n",
       "  </thead>\n",
       "  <tbody>\n",
       "    <tr>\n",
       "      <th>0</th>\n",
       "      <td>1</td>\n",
       "      <td>Male</td>\n",
       "      <td>27</td>\n",
       "      <td>Software Engineer</td>\n",
       "      <td>6.1</td>\n",
       "      <td>6</td>\n",
       "      <td>42</td>\n",
       "      <td>6</td>\n",
       "      <td>Overweight</td>\n",
       "      <td>4200</td>\n",
       "      <td>None</td>\n",
       "      <td>126</td>\n",
       "      <td>83</td>\n",
       "      <td>Hipertensi</td>\n",
       "    </tr>\n",
       "    <tr>\n",
       "      <th>1</th>\n",
       "      <td>2</td>\n",
       "      <td>Male</td>\n",
       "      <td>28</td>\n",
       "      <td>Doctor</td>\n",
       "      <td>6.2</td>\n",
       "      <td>6</td>\n",
       "      <td>60</td>\n",
       "      <td>8</td>\n",
       "      <td>Normal</td>\n",
       "      <td>10000</td>\n",
       "      <td>None</td>\n",
       "      <td>125</td>\n",
       "      <td>80</td>\n",
       "      <td>Normal</td>\n",
       "    </tr>\n",
       "    <tr>\n",
       "      <th>2</th>\n",
       "      <td>3</td>\n",
       "      <td>Male</td>\n",
       "      <td>28</td>\n",
       "      <td>Doctor</td>\n",
       "      <td>6.2</td>\n",
       "      <td>6</td>\n",
       "      <td>60</td>\n",
       "      <td>8</td>\n",
       "      <td>Normal</td>\n",
       "      <td>10000</td>\n",
       "      <td>None</td>\n",
       "      <td>125</td>\n",
       "      <td>80</td>\n",
       "      <td>Normal</td>\n",
       "    </tr>\n",
       "    <tr>\n",
       "      <th>3</th>\n",
       "      <td>4</td>\n",
       "      <td>Male</td>\n",
       "      <td>28</td>\n",
       "      <td>Sales Representative</td>\n",
       "      <td>5.9</td>\n",
       "      <td>4</td>\n",
       "      <td>30</td>\n",
       "      <td>8</td>\n",
       "      <td>Obese</td>\n",
       "      <td>3000</td>\n",
       "      <td>Sleep Apnea</td>\n",
       "      <td>140</td>\n",
       "      <td>90</td>\n",
       "      <td>Hipertensi</td>\n",
       "    </tr>\n",
       "    <tr>\n",
       "      <th>4</th>\n",
       "      <td>5</td>\n",
       "      <td>Male</td>\n",
       "      <td>28</td>\n",
       "      <td>Sales Representative</td>\n",
       "      <td>5.9</td>\n",
       "      <td>4</td>\n",
       "      <td>30</td>\n",
       "      <td>8</td>\n",
       "      <td>Obese</td>\n",
       "      <td>3000</td>\n",
       "      <td>Sleep Apnea</td>\n",
       "      <td>140</td>\n",
       "      <td>90</td>\n",
       "      <td>Hipertensi</td>\n",
       "    </tr>\n",
       "  </tbody>\n",
       "</table>\n",
       "</div>"
      ],
      "text/plain": [
       "   ID Gender  Age            Occupation  sleep_duration  sleep_quality  \\\n",
       "0   1   Male   27     Software Engineer             6.1              6   \n",
       "1   2   Male   28                Doctor             6.2              6   \n",
       "2   3   Male   28                Doctor             6.2              6   \n",
       "3   4   Male   28  Sales Representative             5.9              4   \n",
       "4   5   Male   28  Sales Representative             5.9              4   \n",
       "\n",
       "   activity_level  stress_level         BMI  steps sleep_disorder  sistolik  \\\n",
       "0              42             6  Overweight   4200           None       126   \n",
       "1              60             8      Normal  10000           None       125   \n",
       "2              60             8      Normal  10000           None       125   \n",
       "3              30             8       Obese   3000    Sleep Apnea       140   \n",
       "4              30             8       Obese   3000    Sleep Apnea       140   \n",
       "\n",
       "   diastolik bp_category  \n",
       "0         83  Hipertensi  \n",
       "1         80      Normal  \n",
       "2         80      Normal  \n",
       "3         90  Hipertensi  \n",
       "4         90  Hipertensi  "
      ]
     },
     "execution_count": 12,
     "metadata": {},
     "output_type": "execute_result"
    }
   ],
   "source": [
    "df.head()"
   ]
  },
  {
   "cell_type": "code",
   "execution_count": 13,
   "metadata": {},
   "outputs": [],
   "source": [
    "#mengunduh data yang sudah bersih\n",
    "df.to_csv('sleep_and_lifestyle.csv', index=False)"
   ]
  },
  {
   "attachments": {},
   "cell_type": "markdown",
   "metadata": {},
   "source": [
    "# **Data Exploration**"
   ]
  },
  {
   "cell_type": "code",
   "execution_count": 14,
   "metadata": {},
   "outputs": [
    {
     "data": {
      "text/plain": [
       "(array([ 0,  1,  2,  3,  4,  5,  6,  7,  8,  9, 10]),\n",
       " [Text(0, 0, 'Nurse'),\n",
       "  Text(1, 0, 'Doctor'),\n",
       "  Text(2, 0, 'Engineer'),\n",
       "  Text(3, 0, 'Lawyer'),\n",
       "  Text(4, 0, 'Teacher'),\n",
       "  Text(5, 0, 'Accountant'),\n",
       "  Text(6, 0, 'Salesperson'),\n",
       "  Text(7, 0, 'Software Engineer'),\n",
       "  Text(8, 0, 'Scientist'),\n",
       "  Text(9, 0, 'Sales Representative'),\n",
       "  Text(10, 0, 'Manager')])"
      ]
     },
     "execution_count": 14,
     "metadata": {},
     "output_type": "execute_result"
    },
    {
     "data": {
      "image/png": "[encoded data removed]",
      "text/plain": [
       "<Figure size 640x480 with 1 Axes>"
      ]
     },
     "metadata": {},
     "output_type": "display_data"
    }
   ],
   "source": [
    "#melihat sampel berdasarkan pekerjaan\n",
    "o = sns.barplot(x=df['Occupation'].value_counts().index,\n",
    "            y=df['Occupation'].value_counts().values)\n",
    "\n",
    "plt.bar_label(o.containers[0])\n",
    "plt.xticks(rotation = 90)"
   ]
  },
  {
   "attachments": {},
   "cell_type": "markdown",
   "metadata": {},
   "source": [
    "Terdapat 11 jenis pekerjaan pada data ini. Sampel terbanyak yaitu bekerja sebagai 'Nurse' dengan jumlah 74 orang dan sampel terrendah bekerja sebagai 'Manager' dengan jumlah 1 orang."
   ]
  },
  {
   "cell_type": "code",
   "execution_count": 15,
   "metadata": {},
   "outputs": [
    {
     "data": {
      "text/plain": [
       "Normal           195\n",
       "Overweight       148\n",
       "Normal Weight     21\n",
       "Obese             10\n",
       "Name: BMI, dtype: int64"
      ]
     },
     "execution_count": 15,
     "metadata": {},
     "output_type": "execute_result"
    }
   ],
   "source": [
    "#melihat unique value BMI\n",
    "df['BMI'].value_counts()"
   ]
  },
  {
   "cell_type": "markdown",
   "metadata": {},
   "source": [
    "Terdapat nilai serupa pada BMI yaiut `Normal Weight` dan `Normal`, sehingga akan dilakukan merge/replace menjadi satu."
   ]
  },
  {
   "cell_type": "code",
   "execution_count": 16,
   "metadata": {},
   "outputs": [],
   "source": [
    "#rename BMI\n",
    "df['BMI'].replace({'Normal Weight':'Normal'}, inplace = True)"
   ]
  },
  {
   "cell_type": "code",
   "execution_count": 17,
   "metadata": {},
   "outputs": [
    {
     "data": {
      "text/plain": [
       "[Text(0, 0, '216'), Text(0, 0, '148'), Text(0, 0, '10')]"
      ]
     },
     "execution_count": 17,
     "metadata": {},
     "output_type": "execute_result"
    },
    {
     "data": {
      "image/png": "[encoded data removed]",
      "text/plain": [
       "<Figure size 640x480 with 1 Axes>"
      ]
     },
     "metadata": {},
     "output_type": "display_data"
    }
   ],
   "source": [
    "#melihat sampel berdasarkan BMI\n",
    "b = sns.barplot(x=df['BMI'].value_counts().index,\n",
    "            y=df['BMI'].value_counts().values)\n",
    "\n",
    "plt.bar_label(b.containers[0])"
   ]
  },
  {
   "cell_type": "markdown",
   "metadata": {},
   "source": [
    "Berdasarkan grafik, terdaoat 3 jenis BMI yaitu `Normal, Overweight, dan Obese`. mayoritas kelompok memiliki BMI Normal dengan jumlah 216 orang, kemudian pada kelompok `Overweight` sebanyak 148 orang dan kelompok paling sedikit yaitu `Obese` sebanyak 10 orang."
   ]
  },
  {
   "cell_type": "code",
   "execution_count": 18,
   "metadata": {},
   "outputs": [
    {
     "data": {
      "text/plain": [
       "[Text(0, 0, '219'), Text(0, 0, '78'), Text(0, 0, '77')]"
      ]
     },
     "execution_count": 18,
     "metadata": {},
     "output_type": "execute_result"
    },
    {
     "data": {
      "image/png": "[encoded data removed]",
      "text/plain": [
       "<Figure size 640x480 with 1 Axes>"
      ]
     },
     "metadata": {},
     "output_type": "display_data"
    }
   ],
   "source": [
    "#melihat sampel berdasarkan Sleep Disorder\n",
    "sd = sns.barplot(x=df['sleep_disorder'].value_counts().index,\n",
    "            y=df['sleep_disorder'].value_counts().values)\n",
    "\n",
    "plt.bar_label(sd.containers[0])"
   ]
  },
  {
   "attachments": {},
   "cell_type": "markdown",
   "metadata": {},
   "source": [
    "Beberapa sampel memiliki sleep disorder seperti 'Sleep Apnea' sebanyak 78 orang dan 'Insomnia' sebanyak 77 orang . Sedangkan mayoritas sampel tidak memiliki sleep disorder. "
   ]
  },
  {
   "cell_type": "code",
   "execution_count": 19,
   "metadata": {},
   "outputs": [
    {
     "name": "stdout",
     "output_type": "stream",
     "text": [
      "usia sampel termuda adalah : 27\n",
      "usia sampel tertua adalah : 59\n"
     ]
    }
   ],
   "source": [
    "#melihat rentang usia sampel\n",
    "print('usia sampel termuda adalah :', df['Age'].min())\n",
    "print('usia sampel tertua adalah :', df['Age'].max())"
   ]
  },
  {
   "attachments": {},
   "cell_type": "markdown",
   "metadata": {},
   "source": [
    "Rentang usia sampel pada data ini berkisar dari 27 tahun hingga 59 tahun, dimana sampel merupakan kelompok Produktif"
   ]
  },
  {
   "attachments": {},
   "cell_type": "markdown",
   "metadata": {},
   "source": [
    "# **Analisis dan Perhitungan**"
   ]
  },
  {
   "attachments": {},
   "cell_type": "markdown",
   "metadata": {},
   "source": [
    "## 1. Pekerjaan apa yang memiliki kualitas tidur terburuk?"
   ]
  },
  {
   "cell_type": "code",
   "execution_count": 20,
   "metadata": {},
   "outputs": [
    {
     "data": {
      "text/plain": [
       "Occupation\n",
       "Sales Representative    4.000000\n",
       "Scientist               5.000000\n",
       "Salesperson             6.000000\n",
       "Software Engineer       6.500000\n",
       "Doctor                  6.647887\n",
       "Teacher                 6.975000\n",
       "Manager                 7.000000\n",
       "Nurse                   7.369863\n",
       "Accountant              7.891892\n",
       "Lawyer                  7.893617\n",
       "Engineer                8.412698\n",
       "Name: sleep_quality, dtype: float64"
      ]
     },
     "execution_count": 20,
     "metadata": {},
     "output_type": "execute_result"
    }
   ],
   "source": [
    "#mencari rata-rata kualitas tidur berdasarkan pekerjaan\n",
    "df.groupby('Occupation')['sleep_quality'].mean().sort_values(ascending=True)"
   ]
  },
  {
   "cell_type": "code",
   "execution_count": 36,
   "metadata": {},
   "outputs": [
    {
     "data": {
      "text/plain": [
       "<Axes: xlabel='Occupation'>"
      ]
     },
     "execution_count": 36,
     "metadata": {},
     "output_type": "execute_result"
    },
    {
     "data": {
      "image/png": "[encoded data removed]",
      "text/plain": [
       "<Figure size 640x480 with 1 Axes>"
      ]
     },
     "metadata": {},
     "output_type": "display_data"
    }
   ],
   "source": [
    "#menampilkan grafik rata-rata kualitas tidur berdasarkan pekerjaan\n",
    "df.groupby('Occupation')['sleep_quality'].mean().sort_values(ascending=True).plot(kind='bar')"
   ]
  },
  {
   "attachments": {},
   "cell_type": "markdown",
   "metadata": {},
   "source": [
    "Jika dibandingkan berdasarkan jenis pekerjaan, Sales Representative memiliki kualitas tidur terburuk yaitu ada di skala 4/10. "
   ]
  },
  {
   "attachments": {},
   "cell_type": "markdown",
   "metadata": {},
   "source": [
    "## 2. Apakah kualitas tidur mempengaruhi stress level ?\n"
   ]
  },
  {
   "cell_type": "code",
   "execution_count": 22,
   "metadata": {},
   "outputs": [
    {
     "data": {
      "text/plain": [
       "<Axes: xlabel='sleep_quality', ylabel='stress_level'>"
      ]
     },
     "execution_count": 22,
     "metadata": {},
     "output_type": "execute_result"
    },
    {
     "data": {
      "image/png": "[encoded data removed]",
      "text/plain": [
       "<Figure size 640x480 with 1 Axes>"
      ]
     },
     "metadata": {},
     "output_type": "display_data"
    }
   ],
   "source": [
    "#melihat korelasi antara kualitas tidur dengan tingkat stress dengan grafik scatterplot\n",
    "sns.color_palette(\"Paired\")\n",
    "sns.scatterplot(data=df, x='sleep_quality', y='stress_level')"
   ]
  },
  {
   "attachments": {},
   "cell_type": "markdown",
   "metadata": {},
   "source": [
    "Berdasarkan data, dapat disimpulkan bahwa ada korelasi antara kualitas tidur dengan tingkat stress. Semakin baik kualitas tidurnya, semakin rendah tingkat stressnya. Sebaliknya semakin rendah kualitas tidurnya, semakin tinggi tingkat stressnya."
   ]
  },
  {
   "attachments": {},
   "cell_type": "markdown",
   "metadata": {},
   "source": [
    "## 3. Apakah tingkat aktifitas fisik sehari-hari dan langkah harian mempengaruhi kualitas tidur?\n"
   ]
  },
  {
   "cell_type": "code",
   "execution_count": 23,
   "metadata": {},
   "outputs": [
    {
     "data": {
      "text/plain": [
       "<Axes: xlabel='activity_level', ylabel='sleep_quality'>"
      ]
     },
     "execution_count": 23,
     "metadata": {},
     "output_type": "execute_result"
    },
    {
     "data": {
      "image/png": "[encoded data removed]",
      "text/plain": [
       "<Figure size 640x480 with 1 Axes>"
      ]
     },
     "metadata": {},
     "output_type": "display_data"
    }
   ],
   "source": [
    "#menampilkan grafik korelasi antara tingkat aktifitas sehari-hari dengan kualitas tidur\n",
    "sns.color_palette(\"Paired\")\n",
    "sns.scatterplot(data=df, x='activity_level', y='sleep_quality')"
   ]
  },
  {
   "cell_type": "code",
   "execution_count": 24,
   "metadata": {},
   "outputs": [
    {
     "data": {
      "text/plain": [
       "<Axes: xlabel='steps', ylabel='sleep_quality'>"
      ]
     },
     "execution_count": 24,
     "metadata": {},
     "output_type": "execute_result"
    },
    {
     "data": {
      "image/png": "[encoded data removed]",
      "text/plain": [
       "<Figure size 640x480 with 1 Axes>"
      ]
     },
     "metadata": {},
     "output_type": "display_data"
    }
   ],
   "source": [
    "#menampilkan grafik korelasi antara langkah harian dengan kualitas tidur\n",
    "sns.color_palette(\"Paired\")\n",
    "sns.scatterplot(data=df, x='steps', y='sleep_quality')"
   ]
  },
  {
   "attachments": {},
   "cell_type": "markdown",
   "metadata": {},
   "source": [
    "Berdasarkan grafik, tingkat aktifitas sehari-hari dan langkah harian tidak mempengaruhi kualitas tidur secara signifikan."
   ]
  },
  {
   "attachments": {},
   "cell_type": "markdown",
   "metadata": {},
   "source": [
    "## 4. Apakah BMI mempengaruhi tekanan darah?\n"
   ]
  },
  {
   "attachments": {},
   "cell_type": "markdown",
   "metadata": {},
   "source": [
    "Dari 4 Kategori BMI, saya akan membagi lagi menjadi 2 kategori BMI yaitu BMI Normal dan BMI Over. BMI Normal berisi kategori BMI Normal dan Normal Weight, sedangkan BMI Over berisi kategori BMI Overweight dan BMI Obese"
   ]
  },
  {
   "cell_type": "code",
   "execution_count": 25,
   "metadata": {},
   "outputs": [],
   "source": [
    "#Filtering BMI Over\n",
    "bmi_over = df[(df['BMI'] == 'Overweight') | (df['BMI'] == 'Obese')]"
   ]
  },
  {
   "cell_type": "code",
   "execution_count": 26,
   "metadata": {},
   "outputs": [
    {
     "data": {
      "text/plain": [
       "<Axes: ylabel='bp_category'>"
      ]
     },
     "execution_count": 26,
     "metadata": {},
     "output_type": "execute_result"
    },
    {
     "data": {
      "image/png": "[encoded data removed]",
      "text/plain": [
       "<Figure size 640x480 with 1 Axes>"
      ]
     },
     "metadata": {},
     "output_type": "display_data"
    }
   ],
   "source": [
    "bmi_over['bp_category'].value_counts().plot(kind='pie', autopct='%.0f%%')"
   ]
  },
  {
   "attachments": {},
   "cell_type": "markdown",
   "metadata": {},
   "source": [
    "Berdasarkan hasil perhitungan, 99% sampel dengan BMI Over memiliki tekanan darah yang tinggi atau Hipertensi."
   ]
  },
  {
   "cell_type": "code",
   "execution_count": 27,
   "metadata": {},
   "outputs": [],
   "source": [
    "#Filtering BMI Normal\n",
    "bmi_normal = df[(df['BMI'] == 'Normal') | (df['BMI'] == 'Normal Weight')]"
   ]
  },
  {
   "cell_type": "code",
   "execution_count": 28,
   "metadata": {},
   "outputs": [
    {
     "data": {
      "text/plain": [
       "<Axes: ylabel='bp_category'>"
      ]
     },
     "execution_count": 28,
     "metadata": {},
     "output_type": "execute_result"
    },
    {
     "data": {
      "image/png": "[encoded data removed]",
      "text/plain": [
       "<Figure size 640x480 with 1 Axes>"
      ]
     },
     "metadata": {},
     "output_type": "display_data"
    }
   ],
   "source": [
    "bmi_normal['bp_category'].value_counts().plot(kind='pie', autopct='%.0f%%')"
   ]
  },
  {
   "attachments": {},
   "cell_type": "markdown",
   "metadata": {},
   "source": [
    "Sedangkan pada sampel dengan BMI Normal, 70% sampel memiliki tekanan darah normal.                \n",
    "Dari hasil analisis BMI dapat disimpulkan bahwa BMI cukup berpengaruh kepada tekanan darah dikarenakan sampel dengan BMI Over 99% memiliki tekanan darah tinggi, dan pada sampel dengan BMI Normal hanya 30% saja yang memiliki tekanan darah tinggi."
   ]
  },
  {
   "attachments": {},
   "cell_type": "markdown",
   "metadata": {},
   "source": [
    "## 5. Bagaimana hubungan tekanan darah dengan stress level?"
   ]
  },
  {
   "cell_type": "code",
   "execution_count": 29,
   "metadata": {},
   "outputs": [
    {
     "data": {
      "text/plain": [
       "bp_category\n",
       "Hipertensi    5.570136\n",
       "Normal        5.117647\n",
       "Name: stress_level, dtype: float64"
      ]
     },
     "execution_count": 29,
     "metadata": {},
     "output_type": "execute_result"
    }
   ],
   "source": [
    "#melakukan perhitungan rata-rata stress level berdasarkan tekanan darah\n",
    "df.groupby('bp_category')['stress_level'].mean()"
   ]
  },
  {
   "attachments": {},
   "cell_type": "markdown",
   "metadata": {},
   "source": [
    "Perbedaan tekanan darahm yaitu sampel yang memiliki tekanan darah tinggi dan tekanan darah normal tidak memiliki perbedaan stress level yang signifikan"
   ]
  },
  {
   "attachments": {},
   "cell_type": "markdown",
   "metadata": {},
   "source": [
    "## 6. Apakah usia mempengaruhi kualitas tidur?\n"
   ]
  },
  {
   "cell_type": "code",
   "execution_count": 30,
   "metadata": {},
   "outputs": [
    {
     "data": {
      "text/plain": [
       "<Axes: xlabel='Age', ylabel='sleep_quality'>"
      ]
     },
     "execution_count": 30,
     "metadata": {},
     "output_type": "execute_result"
    },
    {
     "data": {
      "image/png": "[encoded data removed]",
      "text/plain": [
       "<Figure size 640x480 with 1 Axes>"
      ]
     },
     "metadata": {},
     "output_type": "display_data"
    }
   ],
   "source": [
    "#melihat korelasi usia dengan kualitas tidur \n",
    "sns.color_palette(\"Paired\")\n",
    "sns.scatterplot(data=df, x='Age', y='sleep_quality')"
   ]
  },
  {
   "attachments": {},
   "cell_type": "markdown",
   "metadata": {},
   "source": [
    "Berdasarkan grafik, dapat dianalisa bahwa usia tidak mempengaruhi kualitas tidur. Dapat dilihat pada sebaran data, dalam satu kelompok usia memiliki kualitas tidur yang bervariasi dari kualitas tidur baik hingga buruk."
   ]
  },
  {
   "attachments": {},
   "cell_type": "markdown",
   "metadata": {},
   "source": [
    "## 7. Bagaimana Central Tendencies dari durasi tidur berdasarkan pekerjaan?"
   ]
  },
  {
   "cell_type": "code",
   "execution_count": 31,
   "metadata": {},
   "outputs": [
    {
     "data": {
      "text/html": [
       "<div>\n",
       "<style scoped>\n",
       "    .dataframe tbody tr th:only-of-type {\n",
       "        vertical-align: middle;\n",
       "    }\n",
       "\n",
       "    .dataframe tbody tr th {\n",
       "        vertical-align: top;\n",
       "    }\n",
       "\n",
       "    .dataframe thead th {\n",
       "        text-align: right;\n",
       "    }\n",
       "</style>\n",
       "<table border=\"1\" class=\"dataframe\">\n",
       "  <thead>\n",
       "    <tr style=\"text-align: right;\">\n",
       "      <th></th>\n",
       "      <th>mean</th>\n",
       "      <th>median</th>\n",
       "      <th>&lt;lambda_0&gt;</th>\n",
       "    </tr>\n",
       "    <tr>\n",
       "      <th>Occupation</th>\n",
       "      <th></th>\n",
       "      <th></th>\n",
       "      <th></th>\n",
       "    </tr>\n",
       "  </thead>\n",
       "  <tbody>\n",
       "    <tr>\n",
       "      <th>Accountant</th>\n",
       "      <td>7.113514</td>\n",
       "      <td>7.2</td>\n",
       "      <td>7.2</td>\n",
       "    </tr>\n",
       "    <tr>\n",
       "      <th>Doctor</th>\n",
       "      <td>6.970423</td>\n",
       "      <td>7.6</td>\n",
       "      <td>6.0</td>\n",
       "    </tr>\n",
       "    <tr>\n",
       "      <th>Engineer</th>\n",
       "      <td>7.987302</td>\n",
       "      <td>8.3</td>\n",
       "      <td>8.4</td>\n",
       "    </tr>\n",
       "    <tr>\n",
       "      <th>Lawyer</th>\n",
       "      <td>7.410638</td>\n",
       "      <td>7.3</td>\n",
       "      <td>7.2</td>\n",
       "    </tr>\n",
       "    <tr>\n",
       "      <th>Manager</th>\n",
       "      <td>6.900000</td>\n",
       "      <td>6.9</td>\n",
       "      <td>6.9</td>\n",
       "    </tr>\n",
       "    <tr>\n",
       "      <th>Nurse</th>\n",
       "      <td>7.063014</td>\n",
       "      <td>6.5</td>\n",
       "      <td>6.1</td>\n",
       "    </tr>\n",
       "    <tr>\n",
       "      <th>Sales Representative</th>\n",
       "      <td>5.900000</td>\n",
       "      <td>5.9</td>\n",
       "      <td>5.9</td>\n",
       "    </tr>\n",
       "    <tr>\n",
       "      <th>Salesperson</th>\n",
       "      <td>6.403125</td>\n",
       "      <td>6.4</td>\n",
       "      <td>6.5</td>\n",
       "    </tr>\n",
       "    <tr>\n",
       "      <th>Scientist</th>\n",
       "      <td>6.000000</td>\n",
       "      <td>6.0</td>\n",
       "      <td>5.8</td>\n",
       "    </tr>\n",
       "    <tr>\n",
       "      <th>Software Engineer</th>\n",
       "      <td>6.750000</td>\n",
       "      <td>6.8</td>\n",
       "      <td>7.5</td>\n",
       "    </tr>\n",
       "    <tr>\n",
       "      <th>Teacher</th>\n",
       "      <td>6.690000</td>\n",
       "      <td>6.6</td>\n",
       "      <td>6.6</td>\n",
       "    </tr>\n",
       "  </tbody>\n",
       "</table>\n",
       "</div>"
      ],
      "text/plain": [
       "                          mean  median  <lambda_0>\n",
       "Occupation                                        \n",
       "Accountant            7.113514     7.2         7.2\n",
       "Doctor                6.970423     7.6         6.0\n",
       "Engineer              7.987302     8.3         8.4\n",
       "Lawyer                7.410638     7.3         7.2\n",
       "Manager               6.900000     6.9         6.9\n",
       "Nurse                 7.063014     6.5         6.1\n",
       "Sales Representative  5.900000     5.9         5.9\n",
       "Salesperson           6.403125     6.4         6.5\n",
       "Scientist             6.000000     6.0         5.8\n",
       "Software Engineer     6.750000     6.8         7.5\n",
       "Teacher               6.690000     6.6         6.6"
      ]
     },
     "execution_count": 31,
     "metadata": {},
     "output_type": "execute_result"
    }
   ],
   "source": [
    "#melihat nilai rata-rata, nilai tengah, dan nilai modus darii durasi tidur berdasarkan pekerjaan\n",
    "df.groupby('Occupation')['sleep_duration'].agg(['mean', 'median', lambda x: x.mode()[0]]) "
   ]
  },
  {
   "attachments": {},
   "cell_type": "markdown",
   "metadata": {},
   "source": [
    "Kelompok pekerjaan yang memiliki rata-rata durasi tidur paling sedikit adalah 'Sales Representative' dengan durasi 5.9 jam per hari. Sedangkan kelompok pekerjaan yang memiliki durasi tidur paling banyak adalah 'Engineer' yaitu 7.98 jam per hari"
   ]
  },
  {
   "attachments": {},
   "cell_type": "markdown",
   "metadata": {},
   "source": [
    "## 8. Apakah orang dengan sleep disorder dan tanpa sleep disorder memiliki stress level yang sama?"
   ]
  },
  {
   "cell_type": "code",
   "execution_count": 32,
   "metadata": {},
   "outputs": [],
   "source": [
    "#membuat kelompok/variabel berdasarkan sleep disorder\n",
    "isdisorder = df[df['sleep_disorder'] == 'None']['stress_level']\n",
    "nodisorder = df[df['sleep_disorder'] != 'None']['stress_level']"
   ]
  },
  {
   "cell_type": "code",
   "execution_count": 33,
   "metadata": {},
   "outputs": [
    {
     "name": "stdout",
     "output_type": "stream",
     "text": [
      "rata-rata stress level dengan sleep disorder adalah : 5.114155251141552\n",
      "rata-rata stress level tanpa sleep disorder adalah : 5.767741935483871\n"
     ]
    }
   ],
   "source": [
    "#pengujuian mean dengan metode statistik deskriptif\n",
    "isd = isdisorder.mean()\n",
    "print('rata-rata stress level dengan sleep disorder adalah :', isd)\n",
    "\n",
    "nod = nodisorder.mean()\n",
    "print('rata-rata stress level tanpa sleep disorder adalah :', nod)"
   ]
  },
  {
   "attachments": {},
   "cell_type": "markdown",
   "metadata": {},
   "source": [
    "Bila diuji dengan metode statistik deskriptif, rata-rata stress level antara kelompok tanpa sleep level dan dengan stress level tidak berbeda signifikan. Nilai perbedaan rata-ratanya hanya 0.6"
   ]
  },
  {
   "attachments": {},
   "cell_type": "markdown",
   "metadata": {},
   "source": [
    "Saya ingin melakukan Hipotesa apakah ada perbedaan signifikan berdasarkan level stress dengan adanya sleep disorder dengan Uji Hipotesis Two Samples Two Tailed\n",
    "\n",
    "H0 : Mean stress level sampel dengan sleep disorder == sampel tanpa sleep disorder                 \n",
    "H1 : Mean stress level sampel dengan sleep disorder != sampel tanpa sleep disorder"
   ]
  },
  {
   "cell_type": "code",
   "execution_count": 34,
   "metadata": {},
   "outputs": [
    {
     "name": "stdout",
     "output_type": "stream",
     "text": [
      "Pvaluenya adalah: 0.0004135421034039264 yang berarti H0 ditolak\n"
     ]
    }
   ],
   "source": [
    "t_stat, p_val = stats.ttest_ind(isdisorder,nodisorder)\n",
    "if p_val <= 0.05:\n",
    "    print('Pvaluenya adalah:', p_val, 'yang berarti H0 ditolak')\n",
    "else:\n",
    "    print('Pvaluenya adalah:', p_val, 'yang berarti H0 gagal ditolak')"
   ]
  },
  {
   "cell_type": "code",
   "execution_count": 35,
   "metadata": {},
   "outputs": [
    {
     "name": "stderr",
     "output_type": "stream",
     "text": [
      "C:\\Users\\miayu\\AppData\\Local\\Temp\\ipykernel_19504\\3159250795.py:6: UserWarning: \n",
      "\n",
      "`distplot` is a deprecated function and will be removed in seaborn v0.14.0.\n",
      "\n",
      "Please adapt your code to use either `displot` (a figure-level function with\n",
      "similar flexibility) or `histplot` (an axes-level function for histograms).\n",
      "\n",
      "For a guide to updating your code to use the new functions, please see\n",
      "https://gist.github.com/mwaskom/de44147ed2974457ad6372750bbe5751\n",
      "\n",
      "  sns.distplot(ID, label='Sample with Sleep Disorder',color='blue')\n"
     ]
    },
    {
     "name": "stderr",
     "output_type": "stream",
     "text": [
      "C:\\Users\\miayu\\AppData\\Local\\Temp\\ipykernel_19504\\3159250795.py:7: UserWarning: \n",
      "\n",
      "`distplot` is a deprecated function and will be removed in seaborn v0.14.0.\n",
      "\n",
      "Please adapt your code to use either `displot` (a figure-level function with\n",
      "similar flexibility) or `histplot` (an axes-level function for histograms).\n",
      "\n",
      "For a guide to updating your code to use the new functions, please see\n",
      "https://gist.github.com/mwaskom/de44147ed2974457ad6372750bbe5751\n",
      "\n",
      "  sns.distplot(ND, label='Sample Without Sleep Disorder',color='red')\n"
     ]
    },
    {
     "data": {
      "text/plain": [
       "<matplotlib.legend.Legend at 0x1df00fa98b0>"
      ]
     },
     "execution_count": 35,
     "metadata": {},
     "output_type": "execute_result"
    },
    {
     "data": {
      "image/png": "[encoded data removed]",
      "text/plain": [
       "<Figure size 1600x500 with 1 Axes>"
      ]
     },
     "metadata": {},
     "output_type": "display_data"
    }
   ],
   "source": [
    "ID = np.random.normal(isdisorder.mean(),isdisorder.std(),10000)\n",
    "ND = np.random.normal(nodisorder.mean(),nodisorder.std(),10000)\n",
    "\n",
    "ci = stats.norm.interval(0.95, isdisorder.mean(), isdisorder.std())\n",
    "plt.figure(figsize=(16,5))\n",
    "sns.distplot(ID, label='Sample with Sleep Disorder',color='blue')\n",
    "sns.distplot(ND, label='Sample Without Sleep Disorder',color='red')\n",
    "\n",
    "plt.axvline(isdisorder.mean(), color='blue', linewidth=2, label='Sample with Sleep Disorder mean')\n",
    "plt.axvline(nodisorder.mean(), color='red',  linewidth=2, label='Sample without Sleep Disorder mean')\n",
    "\n",
    "plt.axvline(ci[1], color='green', linestyle='dashed', linewidth=2, label='confidence threshold of 95%')\n",
    "plt.axvline(ci[0], color='green', linestyle='dashed', linewidth=2)\n",
    "\n",
    "plt.axvline(ID.mean()+t_stat*ID.std(), color='black', linestyle='dashed', linewidth=2, label = 'Alternative Hypothesis')\n",
    "plt.axvline(ID.mean()-t_stat*ID.std(), color='black', linestyle='dashed', linewidth=2)\n",
    "\n",
    "plt.legend()"
   ]
  },
  {
   "attachments": {},
   "cell_type": "markdown",
   "metadata": {},
   "source": [
    "Pada pengujian mean dengan metode statistik desktriptif, nilai dari kedua kelompok tidak berebeda secara signifikan. Namun berbeda dengan Hasil Uji Hipotesa (statistik inferens) yang menunjukan nilai Pvalue 0.0004135421034039264 dan H0 ditolak, yang berarti bahwa rata-rata stress level sampel yang memiliki sleep disorder berbeda signifikan dengan sampel yang tidak memiliki sleep disorder. Hal ini juga diperkuat dengan grafik dimana nilai pvaluenya berada diluar confidence interval dan letak garis meannya juga berbeda jauh."
   ]
  },
  {
   "attachments": {},
   "cell_type": "markdown",
   "metadata": {},
   "source": [
    "Sehingga dapat disimpulkan bahwa terdapat perbedaan yang signifikan antara stress level sampel yang memiliki sleep disorder dengan sampel yang tidak memiliki sleep disorder"
   ]
  },
  {
   "attachments": {},
   "cell_type": "markdown",
   "metadata": {},
   "source": [
    "# **Pengambilan Kesimpulan**"
   ]
  },
  {
   "attachments": {},
   "cell_type": "markdown",
   "metadata": {},
   "source": [
    "Berdasarkan beberapa analisa yang telah dilakukan oleh Tim DS, dapat diambil kesimpulan bahwa pekerjaan 'Sales Representative' memiliki kualitas tidur dan durasi tidur yang buruk. Selain itu, terdapat korelasi positif antara kualitas tidur dengan stress level. Orang yang memiliki kualitas tidur buruk maka stress levelnya tinggi. Dalam uji hipotesis, ditemukan bahwa terdapat perbedaan yang signifikan antara stress level sampel yang memiliki sleep disorder dengan sampel yang tidak memiliki sleep disorder.\n",
    "\n",
    "BMI memiliki pengaruh terhadap tekanan darah, dengan sampel BMI Over 99% memiliki tingkat tekanan darah tinggi. Namun meskipun BMI mempengaruhi tekanan darah, tekanan darah tidak mempengaruhi stress level. Kategori lain seperti usia tidak berpengaruh terhadap kualitas tidur\n",
    "\n",
    "Adapun saran yang bisa diberikan kepada Tim Marketing adalah, untuk melakukan penjualan dengan metode pendekatan pada masyarakat khususnya yang bekerja sebagai Sales. Karena kualitas tidur mempengaruhi stress level, maka diharapkan obat ini dapat mengurangi stress level para pekerja Sales. Selain kualitas tidur yang berpengaruhi terhadap stress level, durasi tidur juga berpengaruh terhadap penyakit tidur yang diderita. Pekerja yang memiliki durasi tidur yang sedikit, maka semakin tinggi risiko untuk mengalami penyakit tidur. Saran dari Tim DS adalah lakukan iklan dengan menghighlight poin-poin ini. \n",
    "\n",
    "Kemudian untuk tim Farmasi, buatlah obat tidur yang bisa digunakan untuk semua umur, karena kualitas tidur yang buruk tidak terbatas pada kelompok umur tertentu, selain itu buatlah obat yang tidak mempengaruhi tekanan darah karena mayoritas sampel memiliki tekanan darah yang tinggi. Apabila membuat obat yang mempengaruhi tekanan darah, dikhawatirkan akan mengganggu tingkat penjualan.    "
   ]
  },
  {
   "cell_type": "markdown",
   "metadata": {},
   "source": [
    "#### export cleaned dataset"
   ]
  },
  {
   "cell_type": "code",
   "execution_count": 37,
   "metadata": {},
   "outputs": [
    {
     "data": {
      "text/html": [
       "<div>\n",
       "<style scoped>\n",
       "    .dataframe tbody tr th:only-of-type {\n",
       "        vertical-align: middle;\n",
       "    }\n",
       "\n",
       "    .dataframe tbody tr th {\n",
       "        vertical-align: top;\n",
       "    }\n",
       "\n",
       "    .dataframe thead th {\n",
       "        text-align: right;\n",
       "    }\n",
       "</style>\n",
       "<table border=\"1\" class=\"dataframe\">\n",
       "  <thead>\n",
       "    <tr style=\"text-align: right;\">\n",
       "      <th></th>\n",
       "      <th>ID</th>\n",
       "      <th>Gender</th>\n",
       "      <th>Age</th>\n",
       "      <th>Occupation</th>\n",
       "      <th>sleep_duration</th>\n",
       "      <th>sleep_quality</th>\n",
       "      <th>activity_level</th>\n",
       "      <th>stress_level</th>\n",
       "      <th>BMI</th>\n",
       "      <th>steps</th>\n",
       "      <th>sleep_disorder</th>\n",
       "      <th>sistolik</th>\n",
       "      <th>diastolik</th>\n",
       "      <th>bp_category</th>\n",
       "    </tr>\n",
       "  </thead>\n",
       "  <tbody>\n",
       "    <tr>\n",
       "      <th>0</th>\n",
       "      <td>1</td>\n",
       "      <td>Male</td>\n",
       "      <td>27</td>\n",
       "      <td>Software Engineer</td>\n",
       "      <td>6.1</td>\n",
       "      <td>6</td>\n",
       "      <td>42</td>\n",
       "      <td>6</td>\n",
       "      <td>Overweight</td>\n",
       "      <td>4200</td>\n",
       "      <td>None</td>\n",
       "      <td>126</td>\n",
       "      <td>83</td>\n",
       "      <td>Hipertensi</td>\n",
       "    </tr>\n",
       "    <tr>\n",
       "      <th>1</th>\n",
       "      <td>2</td>\n",
       "      <td>Male</td>\n",
       "      <td>28</td>\n",
       "      <td>Doctor</td>\n",
       "      <td>6.2</td>\n",
       "      <td>6</td>\n",
       "      <td>60</td>\n",
       "      <td>8</td>\n",
       "      <td>Normal</td>\n",
       "      <td>10000</td>\n",
       "      <td>None</td>\n",
       "      <td>125</td>\n",
       "      <td>80</td>\n",
       "      <td>Normal</td>\n",
       "    </tr>\n",
       "    <tr>\n",
       "      <th>2</th>\n",
       "      <td>3</td>\n",
       "      <td>Male</td>\n",
       "      <td>28</td>\n",
       "      <td>Doctor</td>\n",
       "      <td>6.2</td>\n",
       "      <td>6</td>\n",
       "      <td>60</td>\n",
       "      <td>8</td>\n",
       "      <td>Normal</td>\n",
       "      <td>10000</td>\n",
       "      <td>None</td>\n",
       "      <td>125</td>\n",
       "      <td>80</td>\n",
       "      <td>Normal</td>\n",
       "    </tr>\n",
       "    <tr>\n",
       "      <th>3</th>\n",
       "      <td>4</td>\n",
       "      <td>Male</td>\n",
       "      <td>28</td>\n",
       "      <td>Sales Representative</td>\n",
       "      <td>5.9</td>\n",
       "      <td>4</td>\n",
       "      <td>30</td>\n",
       "      <td>8</td>\n",
       "      <td>Obese</td>\n",
       "      <td>3000</td>\n",
       "      <td>Sleep Apnea</td>\n",
       "      <td>140</td>\n",
       "      <td>90</td>\n",
       "      <td>Hipertensi</td>\n",
       "    </tr>\n",
       "    <tr>\n",
       "      <th>4</th>\n",
       "      <td>5</td>\n",
       "      <td>Male</td>\n",
       "      <td>28</td>\n",
       "      <td>Sales Representative</td>\n",
       "      <td>5.9</td>\n",
       "      <td>4</td>\n",
       "      <td>30</td>\n",
       "      <td>8</td>\n",
       "      <td>Obese</td>\n",
       "      <td>3000</td>\n",
       "      <td>Sleep Apnea</td>\n",
       "      <td>140</td>\n",
       "      <td>90</td>\n",
       "      <td>Hipertensi</td>\n",
       "    </tr>\n",
       "    <tr>\n",
       "      <th>...</th>\n",
       "      <td>...</td>\n",
       "      <td>...</td>\n",
       "      <td>...</td>\n",
       "      <td>...</td>\n",
       "      <td>...</td>\n",
       "      <td>...</td>\n",
       "      <td>...</td>\n",
       "      <td>...</td>\n",
       "      <td>...</td>\n",
       "      <td>...</td>\n",
       "      <td>...</td>\n",
       "      <td>...</td>\n",
       "      <td>...</td>\n",
       "      <td>...</td>\n",
       "    </tr>\n",
       "    <tr>\n",
       "      <th>369</th>\n",
       "      <td>370</td>\n",
       "      <td>Female</td>\n",
       "      <td>59</td>\n",
       "      <td>Nurse</td>\n",
       "      <td>8.1</td>\n",
       "      <td>9</td>\n",
       "      <td>75</td>\n",
       "      <td>3</td>\n",
       "      <td>Overweight</td>\n",
       "      <td>7000</td>\n",
       "      <td>Sleep Apnea</td>\n",
       "      <td>140</td>\n",
       "      <td>95</td>\n",
       "      <td>Hipertensi</td>\n",
       "    </tr>\n",
       "    <tr>\n",
       "      <th>370</th>\n",
       "      <td>371</td>\n",
       "      <td>Female</td>\n",
       "      <td>59</td>\n",
       "      <td>Nurse</td>\n",
       "      <td>8.0</td>\n",
       "      <td>9</td>\n",
       "      <td>75</td>\n",
       "      <td>3</td>\n",
       "      <td>Overweight</td>\n",
       "      <td>7000</td>\n",
       "      <td>Sleep Apnea</td>\n",
       "      <td>140</td>\n",
       "      <td>95</td>\n",
       "      <td>Hipertensi</td>\n",
       "    </tr>\n",
       "    <tr>\n",
       "      <th>371</th>\n",
       "      <td>372</td>\n",
       "      <td>Female</td>\n",
       "      <td>59</td>\n",
       "      <td>Nurse</td>\n",
       "      <td>8.1</td>\n",
       "      <td>9</td>\n",
       "      <td>75</td>\n",
       "      <td>3</td>\n",
       "      <td>Overweight</td>\n",
       "      <td>7000</td>\n",
       "      <td>Sleep Apnea</td>\n",
       "      <td>140</td>\n",
       "      <td>95</td>\n",
       "      <td>Hipertensi</td>\n",
       "    </tr>\n",
       "    <tr>\n",
       "      <th>372</th>\n",
       "      <td>373</td>\n",
       "      <td>Female</td>\n",
       "      <td>59</td>\n",
       "      <td>Nurse</td>\n",
       "      <td>8.1</td>\n",
       "      <td>9</td>\n",
       "      <td>75</td>\n",
       "      <td>3</td>\n",
       "      <td>Overweight</td>\n",
       "      <td>7000</td>\n",
       "      <td>Sleep Apnea</td>\n",
       "      <td>140</td>\n",
       "      <td>95</td>\n",
       "      <td>Hipertensi</td>\n",
       "    </tr>\n",
       "    <tr>\n",
       "      <th>373</th>\n",
       "      <td>374</td>\n",
       "      <td>Female</td>\n",
       "      <td>59</td>\n",
       "      <td>Nurse</td>\n",
       "      <td>8.1</td>\n",
       "      <td>9</td>\n",
       "      <td>75</td>\n",
       "      <td>3</td>\n",
       "      <td>Overweight</td>\n",
       "      <td>7000</td>\n",
       "      <td>Sleep Apnea</td>\n",
       "      <td>140</td>\n",
       "      <td>95</td>\n",
       "      <td>Hipertensi</td>\n",
       "    </tr>\n",
       "  </tbody>\n",
       "</table>\n",
       "<p>374 rows × 14 columns</p>\n",
       "</div>"
      ],
      "text/plain": [
       "      ID  Gender  Age            Occupation  sleep_duration  sleep_quality  \\\n",
       "0      1    Male   27     Software Engineer             6.1              6   \n",
       "1      2    Male   28                Doctor             6.2              6   \n",
       "2      3    Male   28                Doctor             6.2              6   \n",
       "3      4    Male   28  Sales Representative             5.9              4   \n",
       "4      5    Male   28  Sales Representative             5.9              4   \n",
       "..   ...     ...  ...                   ...             ...            ...   \n",
       "369  370  Female   59                 Nurse             8.1              9   \n",
       "370  371  Female   59                 Nurse             8.0              9   \n",
       "371  372  Female   59                 Nurse             8.1              9   \n",
       "372  373  Female   59                 Nurse             8.1              9   \n",
       "373  374  Female   59                 Nurse             8.1              9   \n",
       "\n",
       "     activity_level  stress_level         BMI  steps sleep_disorder  sistolik  \\\n",
       "0                42             6  Overweight   4200           None       126   \n",
       "1                60             8      Normal  10000           None       125   \n",
       "2                60             8      Normal  10000           None       125   \n",
       "3                30             8       Obese   3000    Sleep Apnea       140   \n",
       "4                30             8       Obese   3000    Sleep Apnea       140   \n",
       "..              ...           ...         ...    ...            ...       ...   \n",
       "369              75             3  Overweight   7000    Sleep Apnea       140   \n",
       "370              75             3  Overweight   7000    Sleep Apnea       140   \n",
       "371              75             3  Overweight   7000    Sleep Apnea       140   \n",
       "372              75             3  Overweight   7000    Sleep Apnea       140   \n",
       "373              75             3  Overweight   7000    Sleep Apnea       140   \n",
       "\n",
       "     diastolik bp_category  \n",
       "0           83  Hipertensi  \n",
       "1           80      Normal  \n",
       "2           80      Normal  \n",
       "3           90  Hipertensi  \n",
       "4           90  Hipertensi  \n",
       "..         ...         ...  \n",
       "369         95  Hipertensi  \n",
       "370         95  Hipertensi  \n",
       "371         95  Hipertensi  \n",
       "372         95  Hipertensi  \n",
       "373         95  Hipertensi  \n",
       "\n",
       "[374 rows x 14 columns]"
      ]
     },
     "execution_count": 37,
     "metadata": {},
     "output_type": "execute_result"
    }
   ],
   "source": [
    "df"
   ]
  },
  {
   "cell_type": "code",
   "execution_count": 40,
   "metadata": {},
   "outputs": [],
   "source": [
    "df.to_csv('sleep_and_lifestyle_cleaned.csv', index=False)"
   ]
  }
 ],
 "metadata": {
  "kernelspec": {
   "display_name": "base",
   "language": "python",
   "name": "python3"
  },
  "language_info": {
   "codemirror_mode": {
    "name": "ipython",
    "version": 3
   },
   "file_extension": ".py",
   "mimetype": "text/x-python",
   "name": "python",
   "nbconvert_exporter": "python",
   "pygments_lexer": "ipython3",
   "version": "3.9.16"
  },
  "orig_nbformat": 4
 },
 "nbformat": 4,
 "nbformat_minor": 2
}
